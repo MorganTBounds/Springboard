{
 "cells": [
  {
   "cell_type": "markdown",
   "metadata": {
    "gradient": {
     "editing": false
    }
   },
   "source": [
    "This exercise will require you to pull some data from the Qunadl API. Qaundl is currently the most widely used aggregator of financial market data."
   ]
  },
  {
   "cell_type": "markdown",
   "metadata": {
    "gradient": {
     "editing": false
    }
   },
   "source": [
    "As a first step, you will need to register a free account on the http://www.quandl.com website."
   ]
  },
  {
   "cell_type": "markdown",
   "metadata": {
    "gradient": {
     "editing": false
    }
   },
   "source": [
    "After you register, you will be provided with a unique API key, that you should store:"
   ]
  },
  {
   "cell_type": "code",
   "execution_count": null,
   "metadata": {
    "collapsed": false,
    "gradient": {
     "editing": false
    }
   },
   "outputs": [],
   "source": [
    "# Store the API key as a string - according to PEP8, constants are always named in all upper case\n",
    "API_KEY = 'QYdyyGyzyDX5eF6KGtTu'"
   ]
  },
  {
   "cell_type": "markdown",
   "metadata": {
    "gradient": {
     "editing": false
    }
   },
   "source": [
    "Qaundl has a large number of data sources, but, unfortunately, most of them require a Premium subscription. Still, there are also a good number of free datasets."
   ]
  },
  {
   "cell_type": "markdown",
   "metadata": {
    "gradient": {
     "editing": false
    }
   },
   "source": [
    "For this mini project, we will focus on equities data from the Frankfurt Stock Exhange (FSE), which is available for free. We'll try and analyze the stock prices of a company called Carl Zeiss Meditec, which manufactures tools for eye examinations, as well as medical lasers for laser eye surgery: https://www.zeiss.com/meditec/int/home.html. The company is listed under the stock ticker AFX_X."
   ]
  },
  {
   "cell_type": "markdown",
   "metadata": {
    "gradient": {
     "editing": false
    }
   },
   "source": [
    "You can find the detailed Quandl API instructions here: https://docs.quandl.com/docs/time-series"
   ]
  },
  {
   "cell_type": "markdown",
   "metadata": {
    "gradient": {
     "editing": false
    }
   },
   "source": [
    "While there is a dedicated Python package for connecting to the Quandl API, we would prefer that you use the *requests* package, which can be easily downloaded using *pip* or *conda*. You can find the documentation for the package here: http://docs.python-requests.org/en/master/ "
   ]
  },
  {
   "cell_type": "markdown",
   "metadata": {
    "gradient": {
     "editing": false
    }
   },
   "source": [
    "Finally, apart from the *requests* package, you are encouraged to not use any third party Python packages, such as *pandas*, and instead focus on what's available in the Python Standard Library (the *collections* module might come in handy: https://pymotw.com/3/collections/).\n",
    "Also, since you won't have access to DataFrames, you are encouraged to us Python's native data structures - preferably dictionaries, though some questions can also be answered using lists.\n",
    "You can read more on these data structures here: https://docs.python.org/3/tutorial/datastructures.html"
   ]
  },
  {
   "cell_type": "markdown",
   "metadata": {
    "gradient": {
     "editing": false
    }
   },
   "source": [
    "Keep in mind that the JSON responses you will be getting from the API map almost one-to-one to Python's dictionaries. Unfortunately, they can be very nested, so make sure you read up on indexing dictionaries in the documentation provided above."
   ]
  },
  {
   "cell_type": "code",
   "execution_count": null,
   "metadata": {
    "collapsed": false,
    "gradient": {
     "editing": false
    }
   },
   "outputs": [],
   "source": [
    "# First, import the relevant modules\n",
    "import requests"
   ]
  },
  {
   "cell_type": "code",
   "execution_count": null,
   "metadata": {
    "collapsed": false,
    "gradient": {
     "editing": false
    }
   },
   "outputs": [
    {
     "name": "stdout",
     "output_type": "stream",
     "text": [
      "200\n"
     ]
    }
   ],
   "source": [
    "# Now, call the Quandl API and pull out a small sample of the data (only one day) to get a glimpse\n",
    "# into the JSON structure that will be returned\n",
    "\n",
    "# NOTE: The Carl Zeiss Meditech information is no longer available for free. Instead,\n",
    "# I have used the 'BX7' ticker to retrieve data for the comapany \"Proximus\", wich is\n",
    "# available for free\n",
    "url = 'https://www.quandl.com/api/v3/datasets/XFRA/BX7'\n",
    "params = {'api_key' : API_KEY, 'start_date' : '2018-11-30', 'end_date' : '2018-11-30'}\n",
    "\n",
    "r = requests.get(url, params=params)\n",
    "\n",
    "# Print status code to make sure request goes through \n",
    "print(r.status_code)"
   ]
  },
  {
   "cell_type": "code",
   "execution_count": null,
   "metadata": {
    "collapsed": false,
    "gradient": {
     "editing": false
    }
   },
   "outputs": [
    {
     "name": "stdout",
     "output_type": "stream",
     "text": [
      "{'dataset': {'id': 46107923, 'dataset_code': 'BX7', 'database_code': 'XFRA', 'name': 'Proximus (BX7) Adjusted Stock Prices', 'description': ' <b>Ticker</b>: BX7 <br> <br> <b>Exchange</b>: XFRA <br> <br> Columns: <br> <br> Open,High,Low,Close,Volume are adjusted and shown in EUR currency. <br> <br> Adjustment Factor shows the factor by which prices are adjusted on days which adjustments take place <br> <br> Adjustment Type is a number representing the type of adjustment. Refer to documentation for more information on these codes.', 'refreshed_at': '2021-07-10T03:16:04.966Z', 'newest_available_date': '2018-11-30', 'oldest_available_date': '2007-01-02', 'column_names': ['Date', 'Open', 'High', 'Low', 'Close', 'Volume', 'Adjustment Factor', 'Adjustment Type'], 'frequency': 'daily', 'type': 'Time Series', 'premium': True, 'limit': None, 'transform': None, 'column_index': None, 'start_date': '2018-11-30', 'end_date': '2018-11-30', 'data': [['2018-11-30', 19.910599, 20.067246, 19.910599, 20.067246, 0.0, None, None]], 'collapse': None, 'order': None, 'database_id': 15302}}\n"
     ]
    }
   ],
   "source": [
    "# Inspect the JSON structure of the object you created, and take note of how nested it is,\n",
    "# as well as the overall structure\n",
    "print(r.json())"
   ]
  },
  {
   "cell_type": "markdown",
   "metadata": {
    "gradient": {
     "editing": false
    }
   },
   "source": [
    "These are your tasks for this mini project:\n",
    "\n",
    "1. Collect data from the Franfurt Stock Exchange, for the ticker AFX_X, for the whole year 2017 (keep in mind that the date format is YYYY-MM-DD).\n",
    "2. Convert the returned JSON object into a Python dictionary.\n",
    "3. Calculate what the highest and lowest opening prices were for the stock in this period.\n",
    "4. What was the largest change in any one day (based on High and Low price)?\n",
    "5. What was the largest change between any two days (based on Closing Price)?\n",
    "6. What was the average daily trading volume during this year?\n",
    "7. (Optional) What was the median trading volume during this year. (Note: you may need to implement your own function for calculating the median.)"
   ]
  },
  {
   "cell_type": "code",
   "execution_count": null,
   "metadata": {
    "collapsed": false,
    "gradient": {
     "editing": false
    }
   },
   "outputs": [
    {
     "name": "stdout",
     "output_type": "stream",
     "text": [
      "200\n"
     ]
    }
   ],
   "source": [
    "# NOTE: I am using the ticker 'BX7' instead of 'AFX_X' as the latter is no longer free\n",
    "\n",
    "# Step 1: Collect data from January 1, 2017 to December 31, 2017\n",
    "url = 'https://www.quandl.com/api/v3/datasets/XFRA/BX7'\n",
    "params = {'api_key' : API_KEY, 'start_date' : '2017-01-01', 'end_date' : '2017-12-31'}\n",
    "\n",
    "r = requests.get(url, params=params)\n",
    "\n",
    "# Print status code to make sure request goes through \n",
    "print(r.status_code)"
   ]
  },
  {
   "cell_type": "code",
   "execution_count": null,
   "metadata": {
    "collapsed": false,
    "gradient": {
     "editing": false,
     "source_hidden": false
    }
   },
   "outputs": [],
   "source": [
    "# Step 2: Convert JSON to Python dictionary \n",
    "data = r.json()"
   ]
  },
  {
   "cell_type": "code",
   "execution_count": null,
   "metadata": {
    "collapsed": false,
    "gradient": {
     "editing": false,
     "source_hidden": false
    }
   },
   "outputs": [],
   "source": [
    "# Instantiate individual lists for Open, High, Low, Close, and Volume data \n",
    "opening, high, low, closing, volume = ([] for i in range(5))\n",
    "\n",
    "# Grab the list of column names for easy indexing\n",
    "cols = data['dataset']['column_names']\n",
    "\n",
    "# Populate the lists by looping through each row of data \n",
    "for row in data['dataset']['data']:\n",
    "    opening.append(row[cols.index('Open')])\n",
    "    high.append(row[cols.index('High')])\n",
    "    low.append(row[cols.index('Low')])\n",
    "    closing.append(row[cols.index('Close')])\n",
    "    volume.append(row[cols.index('Volume')])"
   ]
  },
  {
   "cell_type": "code",
   "execution_count": null,
   "metadata": {
    "collapsed": false,
    "gradient": {
     "editing": false,
     "source_hidden": false
    }
   },
   "outputs": [
    {
     "name": "stdout",
     "output_type": "stream",
     "text": [
      "The highest opening price was 25.421569\n",
      "The lowest opening price of was 20.521185\n"
     ]
    }
   ],
   "source": [
    "# Step 3: Calculate highest and lowest opening prices\n",
    "highest = max(opening)\n",
    "lowest = min(opening)\n",
    "\n",
    "print(f\"The highest opening price was {highest}\")\n",
    "print(f\"The lowest opening price of was {lowest}\")"
   ]
  },
  {
   "cell_type": "code",
   "execution_count": null,
   "metadata": {
    "collapsed": false,
    "gradient": {
     "editing": false,
     "source_hidden": false
    }
   },
   "outputs": [
    {
     "name": "stdout",
     "output_type": "stream",
     "text": [
      "The largest change in one day was 0.9344450000000002\n"
     ]
    }
   ],
   "source": [
    "# Step 4: Caclulate the largest change in one day\n",
    "\n",
    "# Calculate pointwise difference of high list and low list, then find max\n",
    "change = [h - l for h,l in zip(high,low)]\n",
    "largest = max(change)\n",
    "print(f\"The largest change in one day was {largest}\")"
   ]
  },
  {
   "cell_type": "code",
   "execution_count": null,
   "metadata": {
    "collapsed": false,
    "gradient": {
     "editing": false,
     "source_hidden": false
    }
   },
   "outputs": [
    {
     "name": "stdout",
     "output_type": "stream",
     "text": [
      "The largest change in closing price between two days was -1.284082999999999\n"
     ]
    }
   ],
   "source": [
    "# Step 5: Calculate largest change in closing price between two consecutive days\n",
    "\n",
    "# Calculate pointwise difference of closing list with itself offset by one day\n",
    "# Note that prices are listed in chronologically decreasing order \n",
    "change = [a - b for a,b in zip(closing[:len(closing)-1],closing[1:])]\n",
    "\n",
    "# Find value with largest magnitude\n",
    "largest = max(change, key=abs)\n",
    "print(f\"The largest change in closing price between two days was {largest}\")"
   ]
  },
  {
   "cell_type": "code",
   "execution_count": null,
   "metadata": {
    "collapsed": false,
    "gradient": {
     "editing": false,
     "source_hidden": false
    }
   },
   "outputs": [
    {
     "name": "stdout",
     "output_type": "stream",
     "text": [
      "The average daily trading volume was 108.46923076923076\n"
     ]
    }
   ],
   "source": [
    "# Step 6: Find average daily volume \n",
    "\n",
    "avg = sum(volume) / len(volume)\n",
    "print(f\"The average daily trading volume was {avg}\")"
   ]
  },
  {
   "cell_type": "code",
   "execution_count": null,
   "metadata": {
    "collapsed": false,
    "gradient": {
     "editing": false,
     "source_hidden": false
    }
   },
   "outputs": [],
   "source": [
    "# Define median function for Step 7\n",
    "def median(l):\n",
    "    l.sort()\n",
    "    if len(l) % 2 == 1:\n",
    "        middle = int(len(l)/2)\n",
    "        return l[middle]\n",
    "    else:\n",
    "        middle1 = int(len(l)/2 - 1)\n",
    "        middle2 = int(len(l)/2)\n",
    "        avg = (l[middle1] + l[middle2]) / 2\n",
    "        return avg"
   ]
  },
  {
   "cell_type": "code",
   "execution_count": null,
   "metadata": {
    "collapsed": false,
    "gradient": {
     "editing": true,
     "source_hidden": false
    }
   },
   "outputs": [
    {
     "name": "stdout",
     "output_type": "stream",
     "text": [
      "The median daily trading volume was 0.0\n"
     ]
    }
   ],
   "source": [
    "# Step 7: Calculate median trading volume\n",
    "\n",
    "m = median(volume)\n",
    "print(f\"The median daily trading volume was {m}\")"
   ]
  }
 ],
 "metadata": {
  "kernelspec": {
   "display_name": "Python 3",
   "language": "python",
   "name": "python3"
  },
  "language_info": {
   "codemirror_mode": {
    "name": "ipython",
    "version": 3
   },
   "file_extension": ".py",
   "mimetype": "text/x-python",
   "name": "python",
   "nbconvert_exporter": "python",
   "pygments_lexer": "ipython3",
   "version": "3.6.4"
  }
 },
 "nbformat": 4,
 "nbformat_minor": 2
}
